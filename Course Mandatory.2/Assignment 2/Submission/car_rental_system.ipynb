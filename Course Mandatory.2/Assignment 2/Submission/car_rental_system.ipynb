{
 "cells": [
  {
   "cell_type": "markdown",
   "metadata": {},
   "source": [
    "# Online Car Rental Platform\n",
    "\n",
    "Welcome to the Car Rental System! This platform allows customers to:\n",
    "- View available cars\n",
    "- Rent cars on hourly, daily, or weekly basis\n",
    "- Return cars and receive auto-generated bills\n",
    "\n",
    "## Rental Rates\n",
    "- Hourly: ₹50 per car\n",
    "- Daily: ₹800 per car\n",
    "- Weekly: ₹4000 per car"
   ]
  },
  {
   "cell_type": "markdown",
   "metadata": {},
   "source": [
    "## 1. Import Required Modules\n",
    "First, let's import our custom modules and required dependencies:"
   ]
  },
  {
   "cell_type": "code",
   "execution_count": null,
   "metadata": {},
   "source": [
    "from datetime import datetime\n",
    "from car_rental import CarRental, RentalMode\n",
    "from customer import Customer\n",
    "\n",
    "print(\"✓ All modules imported successfully!\")"
   ]
  },
  {
   "cell_type": "markdown",
   "metadata": {},
   "source": [
    "## 2. Helper Functions\n",
    "These functions help format output and handle user interaction:"
   ]
  },
  {
   "cell_type": "code",
   "execution_count": null,
   "metadata": {},
   "source": [
    "def display_menu() -> None:\n",
    "    \"\"\"Display the main menu options.\"\"\"\n",
    "    print(\"\\nCar Rental System Menu\")\n",
    "    print(\"-\" * 20)\n",
    "    print(\"1. View available cars\")\n",
    "    print(\"2. Rent cars (hourly)\")\n",
    "    print(\"3. Rent cars (daily)\")\n",
    "    print(\"4. Rent cars (weekly)\")\n",
    "    print(\"5. Return cars\")\n",
    "    print(\"6. Exit\")\n",
    "\n",
    "def format_bill(duration, bill: float) -> str:\n",
    "    \"\"\"Format the bill for display.\"\"\"\n",
    "    return f\"\"\"\n",
    "    ===== Rental Bill =====\n",
    "    Duration: {duration}\n",
    "    Amount: ₹{bill:.2f}\n",
    "    ====================\n",
    "    \"\"\"\n",
    "\n",
    "def get_rental_mode(choice: str) -> RentalMode:\n",
    "    \"\"\"Convert menu choice to RentalMode.\"\"\"\n",
    "    return {\n",
    "        \"2\": RentalMode.HOURLY,\n",
    "        \"3\": RentalMode.DAILY,\n",
    "        \"4\": RentalMode.WEEKLY\n",
    "    }[choice]\n",
    "\n",
    "print(\"✓ Helper functions defined!\")"
   ]
  },
  {
   "cell_type": "markdown",
   "metadata": {},
   "source": [
    "## 3. Main Application\n",
    "This is the main interface for the car rental system:"
   ]
  },
  {
   "cell_type": "code",
   "execution_count": null,
   "metadata": {},
   "source": [
    "def main():\n",
    "    \"\"\"Main function implementing the car rental system interface.\"\"\"\n",
    "    # Initialize the rental system\n",
    "    rental_system = CarRental(total_cars=100)\n",
    "    \n",
    "    # Get customer information\n",
    "    print(\"Welcome to the Car Rental System!\")\n",
    "    name = input(\"Please enter your name: \")\n",
    "    customer_id = f\"C{datetime.now().strftime('%Y%m%d%H%M%S')}\"\n",
    "    customer = Customer(customer_id, name)\n",
    "    print(f\"\\nHello {name}! Your customer ID is: {customer_id}\")\n",
    "    \n",
    "    while True:\n",
    "        try:\n",
    "            # Display menu and get choice\n",
    "            display_menu()\n",
    "            choice = input(\"\\nEnter your choice (1-6): \").strip()\n",
    "            \n",
    "            if choice == \"1\":\n",
    "                # View available cars\n",
    "                print(\"\\n\" + rental_system.display_available_cars())\n",
    "                \n",
    "            elif choice in [\"2\", \"3\", \"4\"]:\n",
    "                # Rent cars\n",
    "                num_cars = int(input(\"Enter number of cars to rent: \"))\n",
    "                mode = get_rental_mode(choice)\n",
    "                \n",
    "                record = customer.request_cars(rental_system, num_cars, mode)\n",
    "                print(f\"\\n✓ Successfully rented {num_cars} cars\")\n",
    "                print(f\"Rental start time: {record.rental_time}\")\n",
    "                print(f\"Mode: {mode.value}\")\n",
    "                \n",
    "            elif choice == \"5\":\n",
    "                # Return cars\n",
    "                if not customer.current_rental:\n",
    "                    print(\"\\nNo active rentals found\")\n",
    "                    continue\n",
    "                    \n",
    "                num_cars = customer.current_rental.num_cars\n",
    "                bill, duration = customer.return_cars(rental_system, num_cars)\n",
    "                print(format_bill(duration, bill))\n",
    "                \n",
    "            elif choice == \"6\":\n",
    "                # Exit\n",
    "                print(\"\\nThank you for using our service!\")\n",
    "                break\n",
    "                \n",
    "            else:\n",
    "                print(\"\\nInvalid choice! Please enter a number between 1 and 6.\")\n",
    "                \n",
    "        except ValueError as e:\n",
    "            print(f\"\\nError: {str(e)}\")\n",
    "        except Exception as e:\n",
    "            print(f\"\\nAn unexpected error occurred: {str(e)}\")\n",
    "        \n",
    "        input(\"\\nPress Enter to continue...\")\n",
    "\n",
    "print(\"✓ Main function defined!\")"
   ]
  },
  {
   "cell_type": "markdown",
   "metadata": {},
   "source": [
    "## 4. Run the Application\n",
    "Execute this cell to start the car rental system:"
   ]
  },
  {
   "cell_type": "code",
   "execution_count": null,
   "metadata": {},
   "source": [
    "if __name__ == \"__main__\":\n",
    "    main()"
   ]
  },
  {
   "cell_type": "markdown",
   "metadata": {},
   "source": [
    "## Example Usage\n",
    "\n",
    "Here's how to use the system:\n",
    "\n",
    "1. View available cars:\n",
    "   - Select option 1\n",
    "   - System shows total and available cars\n",
    "\n",
    "2. Rent cars:\n",
    "   - Select option 2 (hourly), 3 (daily), or 4 (weekly)\n",
    "   - Enter number of cars needed\n",
    "   - System confirms rental and shows start time\n",
    "\n",
    "3. Return cars:\n",
    "   - Select option 5\n",
    "   - System calculates duration and bill\n",
    "   - Shows detailed bill with breakdown\n",
    "\n",
    "4. Exit:\n",
    "   - Select option 6\n",
    "   - System closes gracefully"
   ]
  }
 ],
 "metadata": {
  "kernelspec": {
   "display_name": "Python 3",
   "language": "python",
   "name": "python3"
  },
  "language_info": {
   "codemirror_mode": {
    "name": "ipython",
    "version": 3
   },
   "file_extension": ".py",
   "mimetype": "text/x-python",
   "name": "python",
   "nbconvert_exporter": "python",
   "pygments_lexer": "ipython3",
   "version": "3.8.0"
  }
 },
 "nbformat": 4,
 "nbformat_minor": 4
}
